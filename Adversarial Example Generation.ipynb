{
 "cells": [
  {
   "cell_type": "code",
   "execution_count": 1,
   "metadata": {
    "colab": {
     "base_uri": "https://localhost:8080/"
    },
    "id": "Z4Iq-4FNhsK1",
    "outputId": "f9355d93-ed64-48c3-9bf7-0c18f4c97993"
   },
   "outputs": [
    {
     "name": "stdout",
     "output_type": "stream",
     "text": [
      "Requirement already satisfied: adversarial-robustness-toolbox in c:\\users\\poorvi hegde\\.conda\\envs\\mlnn\\lib\\site-packages (1.8.1)\n",
      "Requirement already satisfied: six in c:\\users\\poorvi hegde\\.conda\\envs\\mlnn\\lib\\site-packages (from adversarial-robustness-toolbox) (1.15.0)\n",
      "Requirement already satisfied: numpy>=1.18.0 in c:\\users\\poorvi hegde\\.conda\\envs\\mlnn\\lib\\site-packages (from adversarial-robustness-toolbox) (1.20.3)\n",
      "Requirement already satisfied: scikit-learn<1.1.0,>=0.22.2 in c:\\users\\poorvi hegde\\.conda\\envs\\mlnn\\lib\\site-packages (from adversarial-robustness-toolbox) (0.24.2)\n",
      "Requirement already satisfied: setuptools in c:\\users\\poorvi hegde\\.conda\\envs\\mlnn\\lib\\site-packages (from adversarial-robustness-toolbox) (58.0.4)\n",
      "Requirement already satisfied: numba>=0.53.1 in c:\\users\\poorvi hegde\\.conda\\envs\\mlnn\\lib\\site-packages (from adversarial-robustness-toolbox) (0.54.1)\n",
      "Requirement already satisfied: scipy>=1.4.1 in c:\\users\\poorvi hegde\\.conda\\envs\\mlnn\\lib\\site-packages (from adversarial-robustness-toolbox) (1.7.1)\n",
      "Requirement already satisfied: tqdm in c:\\users\\poorvi hegde\\.conda\\envs\\mlnn\\lib\\site-packages (from adversarial-robustness-toolbox) (4.62.2)\n",
      "Requirement already satisfied: llvmlite<0.38,>=0.37.0rc1 in c:\\users\\poorvi hegde\\.conda\\envs\\mlnn\\lib\\site-packages (from numba>=0.53.1->adversarial-robustness-toolbox) (0.37.0)\n",
      "Requirement already satisfied: threadpoolctl>=2.0.0 in c:\\users\\poorvi hegde\\.conda\\envs\\mlnn\\lib\\site-packages (from scikit-learn<1.1.0,>=0.22.2->adversarial-robustness-toolbox) (2.2.0)\n",
      "Requirement already satisfied: joblib>=0.11 in c:\\users\\poorvi hegde\\.conda\\envs\\mlnn\\lib\\site-packages (from scikit-learn<1.1.0,>=0.22.2->adversarial-robustness-toolbox) (1.0.1)\n",
      "Requirement already satisfied: colorama in c:\\users\\poorvi hegde\\.conda\\envs\\mlnn\\lib\\site-packages (from tqdm->adversarial-robustness-toolbox) (0.4.4)\n",
      "Note: you may need to restart the kernel to use updated packages.\n"
     ]
    }
   ],
   "source": [
    "pip install adversarial-robustness-toolbox"
   ]
  },
  {
   "cell_type": "code",
   "execution_count": 2,
   "metadata": {
    "id": "hbfA88yqhiVj"
   },
   "outputs": [],
   "source": [
    "# Imports\n",
    "import keras\n",
    "import random\n",
    "import numpy as np\n",
    "import matplotlib.pyplot as plt\n",
    "import tensorflow as tf\n",
    "from tensorflow.keras import layers, models, optimizers\n",
    "\n",
    "from keras.datasets import mnist\n",
    "from keras.models import Sequential\n",
    "from keras.layers import Dense, Dropout, Flatten\n",
    "from keras.layers import Conv2D, MaxPooling2D\n",
    "from keras import backend as K\n",
    "\n",
    "from art.attacks.evasion import FastGradientMethod, BasicIterativeMethod, UniversalPerturbation, SaliencyMapMethod\n",
    "# from art.attacks.evasion import FastGradientMethod\n",
    "from art.estimators.classification import KerasClassifier\n",
    "\n",
    "# Set the random seeds. DO NOT CHANGE THIS!\n",
    "seedVal = 41\n",
    "random.seed(seedVal)\n",
    "np.random.seed(seedVal)\n",
    "\n",
    "# Defining some constants\n",
    "NUM_CLASSES = 10\n",
    "BATCH_SIZE = 64\n",
    "\n",
    "from tensorflow.python.framework.ops import disable_eager_execution,enable_eager_execution\n",
    "disable_eager_execution()"
   ]
  },
  {
   "cell_type": "raw",
   "metadata": {
    "id": "2z9CNFhMhiVm"
   },
   "source": [
    "Please use only IBM's ART library for this assignment, and not any other libraries."
   ]
  },
  {
   "cell_type": "markdown",
   "metadata": {
    "id": "RxQxzizxhiVn"
   },
   "source": [
    "## Setting up things"
   ]
  },
  {
   "cell_type": "code",
   "execution_count": 3,
   "metadata": {
    "colab": {
     "base_uri": "https://localhost:8080/",
     "height": 299
    },
    "id": "1ajBIA0jhiVo",
    "outputId": "3ac9b78f-4507-4067-a836-4627213371c6"
   },
   "outputs": [
    {
     "data": {
      "image/png": "[encoded data removed]",
      "text/plain": [
       "<Figure size 432x288 with 1 Axes>"
      ]
     },
     "metadata": {
      "needs_background": "light"
     },
     "output_type": "display_data"
    },
    {
     "name": "stdout",
     "output_type": "stream",
     "text": [
      "x_train.shape: (60000, 28, 28)\n"
     ]
    }
   ],
   "source": [
    "# Load the MNIST dataset\n",
    "(x_train, y_train), (x_test, y_test) = mnist.load_data()\n",
    "\n",
    "# Normalization\n",
    "x_train = tf.keras.utils.normalize(x_train, axis=1)\n",
    "x_test = tf.keras.utils.normalize(x_test, axis=1)\n",
    "\n",
    "# Plot an example image (after normalization) from the train set\n",
    "plt.title('Label is {}'.format(y_train[100]))\n",
    "plt.imshow(x_train[100])\n",
    "plt.show()\n",
    "\n",
    "print('x_train.shape:',x_train.shape)\n",
    "\n",
    "# convert class vectors to binary class matrices\n",
    "y_train = tf.keras.utils.to_categorical(y_train, NUM_CLASSES)\n",
    "y_test = tf.keras.utils.to_categorical(y_test, NUM_CLASSES)\n",
    "\n",
    "K.set_image_data_format('channels_first')\n",
    "x_train = x_train.reshape(x_train.shape[0], 1, 28, 28)\n",
    "x_test = x_test.reshape(x_test.shape[0], 1, 28, 28)"
   ]
  },
  {
   "cell_type": "markdown",
   "metadata": {
    "id": "1vNi0im0hiVp"
   },
   "source": [
    "## Train CNN based model"
   ]
  },
  {
   "cell_type": "markdown",
   "metadata": {
    "id": "ukgeUV8_hiVp"
   },
   "source": [
    "### You need to complete the following."
   ]
  },
  {
   "cell_type": "code",
   "execution_count": 4,
   "metadata": {
    "colab": {
     "base_uri": "https://localhost:8080/"
    },
    "id": "YuxfGLrShiVq",
    "outputId": "048cba48-0ac6-4993-9768-f32f67915948"
   },
   "outputs": [
    {
     "name": "stdout",
     "output_type": "stream",
     "text": [
      "Model: \"sequential\"\n",
      "_________________________________________________________________\n",
      " Layer (type)                Output Shape              Param #   \n",
      "=================================================================\n",
      " conv2d (Conv2D)             (None, 25, 26, 26)        250       \n",
      "                                                                 \n",
      " max_pooling2d (MaxPooling2D  (None, 25, 8, 8)         0         \n",
      " )                                                               \n",
      "                                                                 \n",
      " flatten (Flatten)           (None, 1600)              0         \n",
      "                                                                 \n",
      " dense (Dense)               (None, 10)                16010     \n",
      "                                                                 \n",
      "=================================================================\n",
      "Total params: 16,260\n",
      "Trainable params: 16,260\n",
      "Non-trainable params: 0\n",
      "_________________________________________________________________\n"
     ]
    }
   ],
   "source": [
    "# Define the CNN network architecture. \n",
    "cnn_based_model = models.Sequential()\n",
    "\n",
    "# Define the intermediate layers.\n",
    "cnn_based_model.add(Conv2D(25, (3, 3), activation='relu', padding='valid', input_shape=x_train.shape[1:]))\n",
    "cnn_based_model.add(MaxPooling2D((3,3)))\n",
    "cnn_based_model.add(Flatten())\n",
    "cnn_based_model.add(Dense(NUM_CLASSES, activation='softmax'))\n",
    "cnn_based_model.summary()"
   ]
  },
  {
   "cell_type": "code",
   "execution_count": 5,
   "metadata": {
    "colab": {
     "base_uri": "https://localhost:8080/"
    },
    "id": "0N_9ZBmVhiVq",
    "outputId": "9e1beb4c-e19a-4a24-d880-4f5c0eb3dd7a"
   },
   "outputs": [
    {
     "name": "stderr",
     "output_type": "stream",
     "text": [
      "C:\\Users\\Poorvi Hegde\\.conda\\envs\\mlnn\\lib\\site-packages\\tensorflow\\python\\util\\dispatch.py:1096: UserWarning: \"`sparse_categorical_crossentropy` received `from_logits=True`, but the `output` argument was produced by a sigmoid or softmax activation and thus does not represent logits. Was this intended?\"\n",
      "  return dispatch_target(*args, **kwargs)\n"
     ]
    },
    {
     "name": "stdout",
     "output_type": "stream",
     "text": [
      "Train on 60000 samples\n",
      "Epoch 1/10\n",
      "60000/60000 [==============================] - 27s 451us/sample - loss: 0.4713 - accuracy: 0.8715\n",
      "Epoch 2/10\n",
      "60000/60000 [==============================] - 6s 93us/sample - loss: 0.2022 - accuracy: 0.9426\n",
      "Epoch 3/10\n",
      "60000/60000 [==============================] - 6s 92us/sample - loss: 0.1437 - accuracy: 0.9592\n",
      "Epoch 4/10\n",
      "60000/60000 [==============================] - 6s 92us/sample - loss: 0.1175 - accuracy: 0.9661\n",
      "Epoch 5/10\n",
      "60000/60000 [==============================] - 6s 94us/sample - loss: 0.1017 - accuracy: 0.9706\n",
      "Epoch 6/10\n",
      "60000/60000 [==============================] - 6s 97us/sample - loss: 0.0905 - accuracy: 0.9737\n",
      "Epoch 7/10\n",
      "60000/60000 [==============================] - 6s 99us/sample - loss: 0.0833 - accuracy: 0.9756\n",
      "Epoch 8/10\n",
      "60000/60000 [==============================] - 6s 98us/sample - loss: 0.0769 - accuracy: 0.9782\n",
      "Epoch 9/10\n",
      "60000/60000 [==============================] - 6s 98us/sample - loss: 0.0721 - accuracy: 0.9785\n",
      "Epoch 10/10\n",
      "60000/60000 [==============================] - 6s 97us/sample - loss: 0.0679 - accuracy: 0.9798\n"
     ]
    },
    {
     "name": "stderr",
     "output_type": "stream",
     "text": [
      "C:\\Users\\Poorvi Hegde\\.conda\\envs\\mlnn\\lib\\site-packages\\keras\\engine\\training_v1.py:2079: UserWarning: `Model.state_updates` will be removed in a future version. This property should not be used in TensorFlow 2.0, as `updates` are applied automatically.\n",
      "  updates=self.state_updates,\n"
     ]
    },
    {
     "name": "stdout",
     "output_type": "stream",
     "text": [
      "prediction: (10000, 10)\n"
     ]
    }
   ],
   "source": [
    "# Compile the CNN model. \n",
    "cnn_based_model.compile(optimizer='adam',\n",
    "              loss=tf.keras.losses.SparseCategoricalCrossentropy(from_logits=True),\n",
    "              metrics=['accuracy'])\n",
    "\n",
    "cnn_based_classifier = KerasClassifier(model=cnn_based_model, clip_values=(0,1))\n",
    "cnn_based_classifier.fit(x_train, y_train, nb_epochs=10, batch_size=BATCH_SIZE)\n",
    "\n",
    "# Get the predictions on the test set.\n",
    "predictions = cnn_based_classifier.predict(x_test)\n",
    "print('prediction:',predictions.shape)\n"
   ]
  },
  {
   "cell_type": "code",
   "execution_count": 48,
   "metadata": {
    "id": "CWOegUajsWcj"
   },
   "outputs": [],
   "source": [
    "y_test_max = []\n",
    "x_test_max = []\n",
    "n = len(y_test)\n",
    "for i in range(0,n):\n",
    "    y_test_max.append(np.argmax(y_test[i]))\n",
    "    x_test_max.append(np.argmax(x_test[i]))\n",
    "y_test_max = np.array(y_test_max)\n",
    "x_test_max = np.array(x_test_max)"
   ]
  },
  {
   "cell_type": "code",
   "execution_count": 49,
   "metadata": {
    "colab": {
     "base_uri": "https://localhost:8080/"
    },
    "id": "tzTmt2Fc1mY0",
    "outputId": "6f11f190-68c8-4be5-a70b-acb08ff4a102"
   },
   "outputs": [
    {
     "name": "stderr",
     "output_type": "stream",
     "text": [
      "/usr/local/lib/python3.7/dist-packages/keras/engine/training_v1.py:2057: UserWarning: `Model.state_updates` will be removed in a future version. This property should not be used in TensorFlow 2.0, as `updates` are applied automatically.\n",
      "  updates = self.state_updates\n"
     ]
    },
    {
     "name": "stdout",
     "output_type": "stream",
     "text": [
      "Test accuracy: [0.07317117190975696, 0.9774]\n"
     ]
    }
   ],
   "source": [
    "# Compute the accuracy on the test set.\n",
    "cnn_based_score= cnn_based_model.evaluate(x_test, y_test_max.reshape(10000,1), verbose=True)\n",
    "print('Test accuracy:', cnn_based_score)"
   ]
  },
  {
   "cell_type": "markdown",
   "metadata": {
    "id": "EHcGN_I_hiVr"
   },
   "source": [
    "## Train ANN based model (dense layers only)"
   ]
  },
  {
   "cell_type": "code",
   "execution_count": 50,
   "metadata": {
    "colab": {
     "base_uri": "https://localhost:8080/"
    },
    "id": "w4jCCFMVhiVr",
    "outputId": "7bab9ecd-b613-4f97-f6b0-b1f80da020b2"
   },
   "outputs": [
    {
     "name": "stdout",
     "output_type": "stream",
     "text": [
      "Model: \"sequential_3\"\n",
      "_________________________________________________________________\n",
      " Layer (type)                Output Shape              Param #   \n",
      "=================================================================\n",
      " dense_5 (Dense)             (None, 392)               307720    \n",
      "                                                                 \n",
      " dense_6 (Dense)             (None, 50)                19650     \n",
      "                                                                 \n",
      " dropout_1 (Dropout)         (None, 50)                0         \n",
      "                                                                 \n",
      " dense_7 (Dense)             (None, 10)                510       \n",
      "                                                                 \n",
      "=================================================================\n",
      "Total params: 327,880\n",
      "Trainable params: 327,880\n",
      "Non-trainable params: 0\n",
      "_________________________________________________________________\n"
     ]
    }
   ],
   "source": [
    "x_train_reshaped = x_train.reshape(60000,784)\n",
    "y_train_reshaped = y_train.reshape(60000,10)\n",
    "x_test_reshaped = x_test.reshape(10000,784)\n",
    "y_test_reshaped = y_test.reshape(10000,10)\n",
    "\n",
    "# Define the ANN network architecture.\n",
    "ann_based_model = Sequential()\n",
    "\n",
    "# Define the intermediate layers.\n",
    "ann_based_model.add(Dense(392,activation='relu', input_shape = x_train_reshaped.shape[1:]))\n",
    "ann_based_model.add(Dense(50,activation='softmax'))\n",
    "ann_based_model.add(Dropout(0.2))\n",
    "ann_based_model.add(Dense(NUM_CLASSES, activation='softmax'))\n",
    "ann_based_model.summary()"
   ]
  },
  {
   "cell_type": "code",
   "execution_count": 51,
   "metadata": {
    "colab": {
     "base_uri": "https://localhost:8080/"
    },
    "id": "MQHWnF6h5gAy",
    "outputId": "f8be0cd6-7215-4354-b823-5560b4115f63"
   },
   "outputs": [
    {
     "name": "stderr",
     "output_type": "stream",
     "text": [
      "/usr/local/lib/python3.7/dist-packages/tensorflow/python/util/dispatch.py:1096: UserWarning: \"`sparse_categorical_crossentropy` received `from_logits=True`, but the `output` argument was produced by a sigmoid or softmax activation and thus does not represent logits. Was this intended?\"\n",
      "  return dispatch_target(*args, **kwargs)\n"
     ]
    }
   ],
   "source": [
    "# Compile the ANN model. \n",
    "ann_based_model.compile(optimizer='adam',\n",
    "              loss=tf.keras.losses.SparseCategoricalCrossentropy(from_logits=True),\n",
    "              metrics=['accuracy'])"
   ]
  },
  {
   "cell_type": "code",
   "execution_count": 52,
   "metadata": {
    "colab": {
     "base_uri": "https://localhost:8080/"
    },
    "id": "MAn-yjQy-nQX",
    "outputId": "7ba6d3f4-c91d-4717-c546-ef219646a97d"
   },
   "outputs": [
    {
     "name": "stderr",
     "output_type": "stream",
     "text": [
      "/usr/local/lib/python3.7/dist-packages/tensorflow/python/util/dispatch.py:1096: UserWarning: \"`sparse_categorical_crossentropy` received `from_logits=True`, but the `output` argument was produced by a sigmoid or softmax activation and thus does not represent logits. Was this intended?\"\n",
      "  return dispatch_target(*args, **kwargs)\n"
     ]
    },
    {
     "name": "stdout",
     "output_type": "stream",
     "text": [
      "Train on 60000 samples\n",
      "Epoch 1/10\n",
      "60000/60000 [==============================] - 3s 58us/sample - loss: 1.5669 - accuracy: 0.6116\n",
      "Epoch 2/10\n",
      "60000/60000 [==============================] - 3s 58us/sample - loss: 1.0309 - accuracy: 0.6442\n",
      "Epoch 3/10\n",
      "60000/60000 [==============================] - 3s 57us/sample - loss: 0.8668 - accuracy: 0.6554\n",
      "Epoch 4/10\n",
      "60000/60000 [==============================] - 4s 59us/sample - loss: 0.7935 - accuracy: 0.6772\n",
      "Epoch 5/10\n",
      "60000/60000 [==============================] - 3s 57us/sample - loss: 0.6857 - accuracy: 0.7403\n",
      "Epoch 6/10\n",
      "60000/60000 [==============================] - 3s 57us/sample - loss: 0.6357 - accuracy: 0.7638\n",
      "Epoch 7/10\n",
      "60000/60000 [==============================] - 3s 58us/sample - loss: 0.5415 - accuracy: 0.8042\n",
      "Epoch 8/10\n",
      "60000/60000 [==============================] - 3s 57us/sample - loss: 0.5049 - accuracy: 0.8116\n",
      "Epoch 9/10\n",
      "60000/60000 [==============================] - 3s 58us/sample - loss: 0.4775 - accuracy: 0.8137\n",
      "Epoch 10/10\n",
      "60000/60000 [==============================] - 3s 57us/sample - loss: 0.4585 - accuracy: 0.8292\n"
     ]
    },
    {
     "name": "stderr",
     "output_type": "stream",
     "text": [
      "/usr/local/lib/python3.7/dist-packages/keras/engine/training_v1.py:2079: UserWarning: `Model.state_updates` will be removed in a future version. This property should not be used in TensorFlow 2.0, as `updates` are applied automatically.\n",
      "  updates=self.state_updates,\n"
     ]
    },
    {
     "name": "stdout",
     "output_type": "stream",
     "text": [
      "prediction: (10000, 10)\n"
     ]
    }
   ],
   "source": [
    "ann_based_classifier = KerasClassifier(model=ann_based_model, clip_values=(0,1))\n",
    "ann_based_classifier.fit(x_train_reshaped, y_train_reshaped, nb_epochs=10, batch_size=BATCH_SIZE)\n",
    "\n",
    "# Get the predictions on the test set.\n",
    "predictions = ann_based_classifier.predict(x_test_reshaped)\n",
    "print('prediction:',predictions.shape)\n"
   ]
  },
  {
   "cell_type": "code",
   "execution_count": 53,
   "metadata": {
    "colab": {
     "base_uri": "https://localhost:8080/"
    },
    "id": "PMcLmSv3hiVs",
    "outputId": "6e257a96-28b4-4f2f-b408-59d527ee1390"
   },
   "outputs": [
    {
     "name": "stderr",
     "output_type": "stream",
     "text": [
      "/usr/local/lib/python3.7/dist-packages/keras/engine/training_v1.py:2057: UserWarning: `Model.state_updates` will be removed in a future version. This property should not be used in TensorFlow 2.0, as `updates` are applied automatically.\n",
      "  updates = self.state_updates\n"
     ]
    },
    {
     "name": "stdout",
     "output_type": "stream",
     "text": [
      "Test accuracy: [0.1325748831629753, 0.9747]\n"
     ]
    }
   ],
   "source": [
    "x_test_reshaped = x_test.reshape(10000,784)\n",
    "\n",
    "# Compute the accuracy on the test set.\n",
    "ann_score = ann_based_model.evaluate(x_test_reshaped, y_test_max.reshape(10000,1), verbose=True)\n",
    "print('Test accuracy:', ann_score)"
   ]
  },
  {
   "cell_type": "markdown",
   "metadata": {
    "id": "GwVOnDGlhiVs"
   },
   "source": [
    "## Compare the classification accuracy on the test data graphically"
   ]
  },
  {
   "cell_type": "markdown",
   "metadata": {
    "id": "Utem5ER7hiVs"
   },
   "source": [
    "### You need to complete the following."
   ]
  },
  {
   "cell_type": "code",
   "execution_count": 54,
   "metadata": {
    "colab": {
     "base_uri": "https://localhost:8080/",
     "height": 281
    },
    "id": "yQSFDP1thiVs",
    "outputId": "b3f42868-53e8-49af-fdf2-479982510080"
   },
   "outputs": [
    {
     "data": {
      "image/png": "[encoded data removed]",
      "text/plain": [
       "<Figure size 432x288 with 1 Axes>"
      ]
     },
     "metadata": {
      "needs_background": "light"
     },
     "output_type": "display_data"
    }
   ],
   "source": [
    "X = ['CNN-based Model','ANN-based Model']\n",
    "Y = [cnn_based_score, ann_score]\n",
    "plt.bar(X,[Y[0][1],Y[1][1]])\n",
    "plt.title('Test Accuracy')\n",
    "plt.show()\n",
    "plt.close()"
   ]
  },
  {
   "cell_type": "markdown",
   "metadata": {
    "id": "NvKVylgBhiVt"
   },
   "source": [
    "## Part 2: Generate adversarial examples using four methods"
   ]
  },
  {
   "cell_type": "markdown",
   "metadata": {
    "id": "KcziYhVuhiVt"
   },
   "source": [
    "### You need to complete the following."
   ]
  },
  {
   "cell_type": "raw",
   "metadata": {
    "id": "4owesrhdhiVt"
   },
   "source": [
    "In this question, we will use the following four attack methods: \n",
    "(1) FGSM, \n",
    "(2) Basic Iterative Method, \n",
    "(3) Saliency Map Method, \n",
    "(4) Universal Perturbation."
   ]
  },
  {
   "cell_type": "code",
   "execution_count": 55,
   "metadata": {
    "id": "Yiq3Qp_GhiVt"
   },
   "outputs": [],
   "source": [
    "def generate_adv_examples_FGSM(classifier, x):\n",
    "    # This attack is known as the \"Fast Gradient Sign Method\".\n",
    "    attack = FastGradientMethod(classifier)\n",
    "    return attack.generate(x)\n",
    "\n",
    "def generate_adv_examples_BasicIterativeMethod(classifier, x):\n",
    "    # The Basic Iterative Method is the iterative version of FGM and FGSM.\n",
    "    attack = BasicIterativeMethod(classifier,verbose=False)\n",
    "    return attack.generate(x)\n",
    "\n",
    "def generate_adv_examples_SaliencyMapMethod(classifier, x):\n",
    "    # attack from the Jacobian-based Saliency Map Attack (Papernot et al. 2016).\n",
    "    # Paper link: https://arxiv.org/abs/1511.07528\n",
    "    attack = SaliencyMapMethod(classifier,verbose=False)\n",
    "    return attack.generate(x)\n",
    "\n",
    "def generate_adv_examples_UniversalPerturbation(classifier, x):\n",
    "    attack = UniversalPerturbation(classifier,verbose=False)\n",
    "    return attack.generate(x)"
   ]
  },
  {
   "cell_type": "code",
   "execution_count": 56,
   "metadata": {
    "id": "eNe15d_LVFS3"
   },
   "outputs": [],
   "source": [
    "x_input = []\n",
    "for i in range(0,8):\n",
    "    x_input.append(x_test[np.random.randint(10000)])\n",
    "x_input = np.asarray(x_input)"
   ]
  },
  {
   "cell_type": "code",
   "execution_count": 57,
   "metadata": {
    "colab": {
     "base_uri": "https://localhost:8080/",
     "height": 1000,
     "referenced_widgets": [
      "4dbc610f52e643f2b1f7afc0707edc41",
      "06444ed8243c4c1d8e988a2bc0360b52",
      "25e1334000cf41408074262628dc5d14",
      "c9d2db01a6e84a82a0181fc5a74071be",
      "17194e6400f147458325727c4dfca8c9",
      "dd8db6ed545d4e7293595452dd5e3380",
      "a004ddc98d8c46fcb40999064197cb98",
      "2b176e7ea18f4bdd905bc3edf506b840",
      "2cea6687182b408fa76d46e5d539b9cc",
      "c062dc1d4e474d3c81a6cf2350348933",
      "212e9aaca8744f57832b3dadcf696cbd",
      "40bee7c054f54a61babaaad9963a7311",
      "2daefa47ad6a4072a968067b6dfd7829",
      "e4b7d632efcd459a9429c7fadf89911c",
      "d67214382d73486489d816320620602a",
      "379569848e0c459fafc66006ef1dc1fe",
      "5b4f54fff0b8464ba1db28e39578f1f2",
      "2a39eea0bd0b4e3ca21ece15f25c9180",
      "e59b0ff4b9674b27a44f766242559a5f",
      "d192f348849e40ce9fbce7392db6ecf7",
      "7b947ba90452488d8bbe985eb2281e88",
      "f3ebc09bc6bc408f9b13052cab21a683"
     ]
    },
    "id": "OnK_BPP4hiVt",
    "outputId": "f77e871d-bedf-4a4f-c0a8-55638411b3db"
   },
   "outputs": [
    {
     "data": {
      "application/vnd.jupyter.widget-view+json": {
       "model_id": "4dbc610f52e643f2b1f7afc0707edc41",
       "version_major": 2,
       "version_minor": 0
      },
      "text/plain": [
       "DeepFool:   0%|          | 0/1 [00:00<?, ?it/s]"
      ]
     },
     "metadata": {},
     "output_type": "display_data"
    },
    {
     "data": {
      "application/vnd.jupyter.widget-view+json": {
       "model_id": "40bee7c054f54a61babaaad9963a7311",
       "version_major": 2,
       "version_minor": 0
      },
      "text/plain": [
       "DeepFool:   0%|          | 0/1 [00:00<?, ?it/s]"
      ]
     },
     "metadata": {},
     "output_type": "display_data"
    },
    {
     "data": {
      "image/png": "[encoded data removed]",
      "text/plain": [
       "<Figure size 1080x1080 with 32 Axes>"
      ]
     },
     "metadata": {
      "needs_background": "light"
     },
     "output_type": "display_data"
    }
   ],
   "source": [
    "# Generate examples for CNN-based model\n",
    "cnn_adv_examples=[]\n",
    "cnn_adv_examples.append(generate_adv_examples_FGSM(cnn_based_classifier,x_input[0:8]))\n",
    "cnn_adv_examples.append(generate_adv_examples_BasicIterativeMethod(cnn_based_classifier,x_input[0:8]))\n",
    "cnn_adv_examples.append(generate_adv_examples_SaliencyMapMethod(cnn_based_classifier,x_input[0:8]))\n",
    "cnn_adv_examples.append(generate_adv_examples_UniversalPerturbation(cnn_based_classifier,x_input[0:8]))\n",
    "\n",
    "\n",
    "# Generate plot\n",
    "fig, ax = plt.subplots(8, 4, sharex='col', sharey='row', figsize=(15,15))\n",
    "fig.suptitle('Adversarial examples generated for the CNN-based model')\n",
    "\n",
    "for i in range(8):\n",
    "    for j in range(4):\n",
    "        ax[i, j].imshow(cnn_adv_examples[j][i].squeeze())\n",
    "        predictions = cnn_based_classifier.predict(np.expand_dims(cnn_adv_examples[j][i], 0))\n",
    "        ax[i, j].set_title('Network Prediction: {}'.format(np.argmax(predictions)))"
   ]
  },
  {
   "cell_type": "code",
   "execution_count": 58,
   "metadata": {
    "colab": {
     "base_uri": "https://localhost:8080/",
     "height": 1000,
     "referenced_widgets": [
      "507677ddd3f043f19be22ac20bb9cc42",
      "c0b85f914342443fbe9e4a5b10e185ee",
      "0fcc9eebb9da42caa8ea0b73b5124070",
      "569b49c9935043c983981023070c5086",
      "da91009cba264e90b77268681897573b",
      "87e982389c894c47a8aef9cf82b124ee",
      "005b110d00e548b384f8e2b407a51a6e",
      "413345ea4d8448a99ed52a8d5b7a3e9f",
      "f89ac2e618e74a1fa789178301431e06",
      "dc19f4af9d5349b48744961c6f993168",
      "090e4f4e21104decb85c34cf00465ea3",
      "8b6d81f1ea114529bca8b73bf24dd167",
      "4d424ad9f3b1409aae9fa02c5516fe6d",
      "10824a4af1c541578249f422bb11e79b",
      "ce2d1fa088f54e1286476d244e664f6b",
      "0b610aa08d904654a378b4c95f3309ca",
      "c2254acbabe1425f88dd4b1291355523",
      "f993cf6108314351bd1fb51aab5446e8",
      "4976165857884cb2a4f8235890ce7757",
      "74504b8a663a4bc5b08071b14a8c9325",
      "f9008273249544d894c8ba383400e367",
      "aabea3a311644a1c80421be595593a15"
     ]
    },
    "id": "pABdeHfxhiVt",
    "outputId": "9423579d-f36f-4251-bd88-f4d1d20f2842"
   },
   "outputs": [
    {
     "data": {
      "application/vnd.jupyter.widget-view+json": {
       "model_id": "507677ddd3f043f19be22ac20bb9cc42",
       "version_major": 2,
       "version_minor": 0
      },
      "text/plain": [
       "DeepFool:   0%|          | 0/1 [00:00<?, ?it/s]"
      ]
     },
     "metadata": {},
     "output_type": "display_data"
    },
    {
     "data": {
      "application/vnd.jupyter.widget-view+json": {
       "model_id": "8b6d81f1ea114529bca8b73bf24dd167",
       "version_major": 2,
       "version_minor": 0
      },
      "text/plain": [
       "DeepFool:   0%|          | 0/1 [00:00<?, ?it/s]"
      ]
     },
     "metadata": {},
     "output_type": "display_data"
    },
    {
     "data": {
      "image/png": "[encoded data removed]",
      "text/plain": [
       "<Figure size 1080x1080 with 32 Axes>"
      ]
     },
     "metadata": {
      "needs_background": "light"
     },
     "output_type": "display_data"
    }
   ],
   "source": [
    "x_input = x_input.reshape(8,784)\n",
    "# Generate examples for ANN-based model\n",
    "ann_adv_examples=[]\n",
    "ann_adv_examples.append(generate_adv_examples_FGSM(ann_based_classifier,x_test_reshaped[0:8]))\n",
    "ann_adv_examples.append(generate_adv_examples_BasicIterativeMethod(ann_based_classifier,x_test_reshaped[0:8]))\n",
    "ann_adv_examples.append(generate_adv_examples_SaliencyMapMethod(ann_based_classifier,x_test_reshaped[0:8]))\n",
    "ann_adv_examples.append(generate_adv_examples_UniversalPerturbation(ann_based_classifier,x_test_reshaped[0:8]))\n",
    "\n",
    "# Generate plots\n",
    "fig, ax = plt.subplots(8, 4, sharex='col', sharey='row', figsize=(15,15))\n",
    "fig.suptitle('Adversarial examples generated for the ANN-based model')\n",
    "\n",
    "for i in range(8):\n",
    "    for j in range(4):\n",
    "        ax[i, j].imshow(ann_adv_examples[j][i].reshape(28,28).squeeze())\n",
    "        predictions = ann_based_classifier.predict(np.expand_dims(ann_adv_examples[j][i], 0))\n",
    "        ax[i, j].set_title('Network Prediction: {}'.format(np.argmax(predictions)))"
   ]
  },
  {
   "cell_type": "markdown",
   "metadata": {
    "id": "NNLqomBshiVt"
   },
   "source": [
    "## Part 3: Create a new test set, based entirely on the adversarial images generated previously. Test your classifiers performance on this test set."
   ]
  },
  {
   "cell_type": "markdown",
   "metadata": {
    "id": "ub3KzfNNhiVu"
   },
   "source": [
    "### You need to complete the following."
   ]
  },
  {
   "cell_type": "code",
   "execution_count": 59,
   "metadata": {
    "id": "U8SQ2hdmhiVu"
   },
   "outputs": [],
   "source": [
    "# We will be using the FGSM method in this part\n",
    "ann_adv_examples_FGSM = generate_adv_examples_FGSM(ann_based_classifier,x_test_reshaped)\n",
    "cnn_adv_examples_FGSM = generate_adv_examples_FGSM(cnn_based_classifier,x_test)"
   ]
  },
  {
   "cell_type": "code",
   "execution_count": 61,
   "metadata": {
    "colab": {
     "base_uri": "https://localhost:8080/"
    },
    "id": "mZ6ChsjvhiVu",
    "outputId": "8b2d12b1-32d6-4bae-8392-2af635618849"
   },
   "outputs": [
    {
     "name": "stdout",
     "output_type": "stream",
     "text": [
      "ANN-based Model Score: [5.807975007629395, 0.0102]\n"
     ]
    }
   ],
   "source": [
    "# Evaluate ANN-based-classifier on the newly generated adversarial test set\n",
    "predictions = ann_based_model.predict(ann_adv_examples_FGSM)\n",
    "ann_adversarial_score = ann_based_model.evaluate(ann_adv_examples_FGSM, y_test_max.reshape(10000,1))\n",
    "print('ANN-based Model Score: {}'.format(ann_adversarial_score))"
   ]
  },
  {
   "cell_type": "code",
   "execution_count": 62,
   "metadata": {
    "colab": {
     "base_uri": "https://localhost:8080/"
    },
    "id": "o1Q-cXB5hiVu",
    "outputId": "341f129c-3a83-4111-ecab-198e62e2b011"
   },
   "outputs": [
    {
     "name": "stdout",
     "output_type": "stream",
     "text": [
      "CNN-based Model Score: [31.89901357421875, 0.0193]\n"
     ]
    }
   ],
   "source": [
    "# Evaluate CNN-based-classifier on the newly generated adversarial test set\n",
    "predictions = cnn_based_classifier.predict(cnn_adv_examples_FGSM)\n",
    "cnn_adversarial_score = cnn_based_model.evaluate(cnn_adv_examples_FGSM, y_test_max.reshape(10000,1), BATCH_SIZE, verbose=1)\n",
    "print('CNN-based Model Score: {}'.format(cnn_adversarial_score))"
   ]
  },
  {
   "cell_type": "markdown",
   "metadata": {
    "id": "_ZVLsQg0hiVu"
   },
   "source": [
    "## Create a new augmented test set (original test images + adversarial images)\n"
   ]
  },
  {
   "cell_type": "markdown",
   "metadata": {
    "id": "9_KzUswThiVu"
   },
   "source": [
    "### You need to complete the following."
   ]
  },
  {
   "cell_type": "code",
   "execution_count": 63,
   "metadata": {
    "id": "mQxyGgM9hiVu"
   },
   "outputs": [],
   "source": [
    "# ANN-based-classifier\n",
    "ann_augmented_examples = []\n",
    "for i in range(10000):\n",
    "    \n",
    "    # Select adversarial samples.\n",
    "    if random.randint(0, 1) == 0:\n",
    "        ann_augmented_examples.append(ann_adv_examples_FGSM[i])\n",
    "    # Select actual samples.\n",
    "    else:\n",
    "        ann_augmented_examples.append(x_test_reshaped[i])\n",
    "      "
   ]
  },
  {
   "cell_type": "code",
   "execution_count": 64,
   "metadata": {
    "colab": {
     "base_uri": "https://localhost:8080/"
    },
    "id": "gi3GqS3nk3tZ",
    "outputId": "cb4ca1e7-43a5-4772-f938-e9aa354286df"
   },
   "outputs": [
    {
     "data": {
      "text/plain": [
       "(10000, 784)"
      ]
     },
     "execution_count": 64,
     "metadata": {},
     "output_type": "execute_result"
    }
   ],
   "source": [
    "ann_augmented_examples = np.asarray(ann_augmented_examples)\n",
    "ann_augmented_examples.shape"
   ]
  },
  {
   "cell_type": "code",
   "execution_count": 65,
   "metadata": {
    "colab": {
     "base_uri": "https://localhost:8080/"
    },
    "id": "QauveamMkbEe",
    "outputId": "cf813087-4892-437f-c717-57ece31b3aca"
   },
   "outputs": [
    {
     "name": "stdout",
     "output_type": "stream",
     "text": [
      "ANN-based Model Score: [2.9833102653503416, 0.4912]\n"
     ]
    }
   ],
   "source": [
    "# ann_augmented_examples = np.concatenate(ann_augmented_examples, axis=0)\n",
    "predictions = ann_based_classifier.predict(ann_augmented_examples)\n",
    "ann_augmented_score = ann_based_model.evaluate(ann_augmented_examples, y_test_max.reshape(10000,1), BATCH_SIZE, verbose=1)\n",
    "print('ANN-based Model Score: {}'.format(ann_augmented_score))"
   ]
  },
  {
   "cell_type": "code",
   "execution_count": 66,
   "metadata": {
    "id": "r9lmWdiQhiVu"
   },
   "outputs": [],
   "source": [
    "# CNN-based-classifier\n",
    "cnn_augmented_examples = []\n",
    "for i in range(10000):\n",
    "    \n",
    "    # Select adversarial samples.\n",
    "    if random.randint(0, 1) == 0:\n",
    "        cnn_augmented_examples.append(cnn_adv_examples_FGSM[i])\n",
    "    # Select actual samples.\n",
    "    else:\n",
    "        cnn_augmented_examples.append(x_test[i])"
   ]
  },
  {
   "cell_type": "code",
   "execution_count": 67,
   "metadata": {
    "colab": {
     "base_uri": "https://localhost:8080/"
    },
    "id": "4vILeN1Jn3OV",
    "outputId": "39458202-7979-4f1e-f60f-3ee973fccf2b"
   },
   "outputs": [
    {
     "data": {
      "text/plain": [
       "(10000, 1, 28, 28)"
      ]
     },
     "execution_count": 67,
     "metadata": {},
     "output_type": "execute_result"
    }
   ],
   "source": [
    "cnn_augmented_examples = np.asarray(cnn_augmented_examples)\n",
    "cnn_augmented_examples.shape"
   ]
  },
  {
   "cell_type": "code",
   "execution_count": 68,
   "metadata": {
    "id": "3HRaPIwbnNHF"
   },
   "outputs": [],
   "source": [
    "# cnn_augmented_examples = np.concatenate(cnn_augmented_examples, axis=0)\n",
    "predictions = cnn_based_classifier.predict(cnn_augmented_examples)"
   ]
  },
  {
   "cell_type": "code",
   "execution_count": 69,
   "metadata": {
    "colab": {
     "base_uri": "https://localhost:8080/"
    },
    "id": "O1HjWVRf0TCN",
    "outputId": "3227813a-5b75-481e-e171-ceb04e43ffd3"
   },
   "outputs": [
    {
     "name": "stdout",
     "output_type": "stream",
     "text": [
      "CNN-based Model Score: [0.07317117190975696, 0.9774]\n"
     ]
    }
   ],
   "source": [
    "cnn_augmented_score = cnn_based_model.evaluate(cnn_augmented_examples, y_test_max.reshape(10000,1), BATCH_SIZE, verbose=1)\n",
    "print('CNN-based Model Score: {}'.format(cnn_based_score))"
   ]
  },
  {
   "cell_type": "markdown",
   "metadata": {
    "id": "eLhdXk-shiVu"
   },
   "source": [
    "## Make a single plot, wherein you compare the test accuracies of all the models, on the three types of test sets that you have"
   ]
  },
  {
   "cell_type": "markdown",
   "metadata": {
    "id": "JG-mxofihiVu"
   },
   "source": [
    "### You need to complete the following."
   ]
  },
  {
   "cell_type": "code",
   "execution_count": 70,
   "metadata": {
    "id": "anfvq76whiVu"
   },
   "outputs": [],
   "source": [
    "ann_models_score = ann_augmented_score\n",
    "cnn_models_score = cnn_augmented_score"
   ]
  },
  {
   "cell_type": "code",
   "execution_count": 71,
   "metadata": {
    "colab": {
     "base_uri": "https://localhost:8080/",
     "height": 281
    },
    "id": "vhH0gcGWhiVv",
    "outputId": "8e4f71a1-2a4e-451b-de71-e7ffaa9e3615"
   },
   "outputs": [
    {
     "data": {
      "image/png": "[encoded data removed]",
      "text/plain": [
       "<Figure size 432x288 with 1 Axes>"
      ]
     },
     "metadata": {
      "needs_background": "light"
     },
     "output_type": "display_data"
    }
   ],
   "source": [
    "# Plot for the ANN based model.\n",
    "X = ['Original Test Set','Augmented Test Set', 'Adversarial Test Set']\n",
    "Y = [ann_score[1],ann_augmented_score[1],ann_adversarial_score[1]]\n",
    "plt.bar(X,Y, color=['r', 'g', 'b'])\n",
    "plt.title('Test Accuracy for the ANN-based model')\n",
    "plt.show()\n",
    "plt.close()"
   ]
  },
  {
   "cell_type": "code",
   "execution_count": 72,
   "metadata": {
    "colab": {
     "base_uri": "https://localhost:8080/",
     "height": 281
    },
    "id": "x_FACd7fhiVv",
    "outputId": "eab3e5bb-9018-4475-b1c7-f45b286539c3"
   },
   "outputs": [
    {
     "data": {
      "image/png": "[encoded data removed]",
      "text/plain": [
       "<Figure size 432x288 with 1 Axes>"
      ]
     },
     "metadata": {
      "needs_background": "light"
     },
     "output_type": "display_data"
    }
   ],
   "source": [
    "# Plot for the CNN based model.\n",
    "X = ['Original Test Set','Augmented Test Set', 'Adversarial Test Set']\n",
    "Y = [cnn_based_score[1],cnn_augmented_score[1],cnn_adversarial_score[1]]\n",
    "plt.bar(X,Y, color=['r', 'g', 'b'])\n",
    "plt.title('Test Accuracy for the CNN-based model')\n",
    "plt.show()\n",
    "plt.close()"
   ]
  }
 ],
 "metadata": {
  "accelerator": "GPU",
  "colab": {
   "collapsed_sections": [],
   "name": "Problem5.ipynb",
   "provenance": [],
   "toc_visible": true
  },
  "kernelspec": {
   "display_name": "Python 3 (ipykernel)",
   "language": "python",
   "name": "python3"
  },
  "language_info": {
   "codemirror_mode": {
    "name": "ipython",
    "version": 3
   },
   "file_extension": ".py",
   "mimetype": "text/x-python",
   "name": "python",
   "nbconvert_exporter": "python",
   "pygments_lexer": "ipython3",
   "version": "3.9.7"
  },
  "widgets": {
   "application/vnd.jupyter.widget-state+json": {
    "005b110d00e548b384f8e2b407a51a6e": {
     "model_module": "@jupyter-widgets/base",
     "model_module_version": "1.2.0",
     "model_name": "LayoutModel",
     "state": {
      "_model_module": "@jupyter-widgets/base",
      "_model_module_version": "1.2.0",
      "_model_name": "LayoutModel",
      "_view_count": null,
      "_view_module": "@jupyter-widgets/base",
      "_view_module_version": "1.2.0",
      "_view_name": "LayoutView",
      "align_content": null,
      "align_items": null,
      "align_self": null,
      "border": null,
      "bottom": null,
      "display": null,
      "flex": null,
      "flex_flow": null,
      "grid_area": null,
      "grid_auto_columns": null,
      "grid_auto_flow": null,
      "grid_auto_rows": null,
      "grid_column": null,
      "grid_gap": null,
      "grid_row": null,
      "grid_template_areas": null,
      "grid_template_columns": null,
      "grid_template_rows": null,
      "height": null,
      "justify_content": null,
      "justify_items": null,
      "left": null,
      "margin": null,
      "max_height": null,
      "max_width": null,
      "min_height": null,
      "min_width": null,
      "object_fit": null,
      "object_position": null,
      "order": null,
      "overflow": null,
      "overflow_x": null,
      "overflow_y": null,
      "padding": null,
      "right": null,
      "top": null,
      "visibility": null,
      "width": null
     }
    },
    "06444ed8243c4c1d8e988a2bc0360b52": {
     "model_module": "@jupyter-widgets/base",
     "model_module_version": "1.2.0",
     "model_name": "LayoutModel",
     "state": {
      "_model_module": "@jupyter-widgets/base",
      "_model_module_version": "1.2.0",
      "_model_name": "LayoutModel",
      "_view_count": null,
      "_view_module": "@jupyter-widgets/base",
      "_view_module_version": "1.2.0",
      "_view_name": "LayoutView",
      "align_content": null,
      "align_items": null,
      "align_self": null,
      "border": null,
      "bottom": null,
      "display": null,
      "flex": null,
      "flex_flow": null,
      "grid_area": null,
      "grid_auto_columns": null,
      "grid_auto_flow": null,
      "grid_auto_rows": null,
      "grid_column": null,
      "grid_gap": null,
      "grid_row": null,
      "grid_template_areas": null,
      "grid_template_columns": null,
      "grid_template_rows": null,
      "height": null,
      "justify_content": null,
      "justify_items": null,
      "left": null,
      "margin": null,
      "max_height": null,
      "max_width": null,
      "min_height": null,
      "min_width": null,
      "object_fit": null,
      "object_position": null,
      "order": null,
      "overflow": null,
      "overflow_x": null,
      "overflow_y": null,
      "padding": null,
      "right": null,
      "top": null,
      "visibility": null,
      "width": null
     }
    },
    "090e4f4e21104decb85c34cf00465ea3": {
     "model_module": "@jupyter-widgets/base",
     "model_module_version": "1.2.0",
     "model_name": "LayoutModel",
     "state": {
      "_model_module": "@jupyter-widgets/base",
      "_model_module_version": "1.2.0",
      "_model_name": "LayoutModel",
      "_view_count": null,
      "_view_module": "@jupyter-widgets/base",
      "_view_module_version": "1.2.0",
      "_view_name": "LayoutView",
      "align_content": null,
      "align_items": null,
      "align_self": null,
      "border": null,
      "bottom": null,
      "display": null,
      "flex": null,
      "flex_flow": null,
      "grid_area": null,
      "grid_auto_columns": null,
      "grid_auto_flow": null,
      "grid_auto_rows": null,
      "grid_column": null,
      "grid_gap": null,
      "grid_row": null,
      "grid_template_areas": null,
      "grid_template_columns": null,
      "grid_template_rows": null,
      "height": null,
      "justify_content": null,
      "justify_items": null,
      "left": null,
      "margin": null,
      "max_height": null,
      "max_width": null,
      "min_height": null,
      "min_width": null,
      "object_fit": null,
      "object_position": null,
      "order": null,
      "overflow": null,
      "overflow_x": null,
      "overflow_y": null,
      "padding": null,
      "right": null,
      "top": null,
      "visibility": null,
      "width": null
     }
    },
    "0b610aa08d904654a378b4c95f3309ca": {
     "model_module": "@jupyter-widgets/controls",
     "model_module_version": "1.5.0",
     "model_name": "HTMLModel",
     "state": {
      "_dom_classes": [],
      "_model_module": "@jupyter-widgets/controls",
      "_model_module_version": "1.5.0",
      "_model_name": "HTMLModel",
      "_view_count": null,
      "_view_module": "@jupyter-widgets/controls",
      "_view_module_version": "1.5.0",
      "_view_name": "HTMLView",
      "description": "",
      "description_tooltip": null,
      "layout": "IPY_MODEL_aabea3a311644a1c80421be595593a15",
      "placeholder": "​",
      "style": "IPY_MODEL_f9008273249544d894c8ba383400e367",
      "value": " 1/1 [00:00&lt;00:00, 14.48it/s]"
     }
    },
    "0fcc9eebb9da42caa8ea0b73b5124070": {
     "model_module": "@jupyter-widgets/controls",
     "model_module_version": "1.5.0",
     "model_name": "HTMLModel",
     "state": {
      "_dom_classes": [],
      "_model_module": "@jupyter-widgets/controls",
      "_model_module_version": "1.5.0",
      "_model_name": "HTMLModel",
      "_view_count": null,
      "_view_module": "@jupyter-widgets/controls",
      "_view_module_version": "1.5.0",
      "_view_name": "HTMLView",
      "description": "",
      "description_tooltip": null,
      "layout": "IPY_MODEL_005b110d00e548b384f8e2b407a51a6e",
      "placeholder": "​",
      "style": "IPY_MODEL_87e982389c894c47a8aef9cf82b124ee",
      "value": "DeepFool: 100%"
     }
    },
    "10824a4af1c541578249f422bb11e79b": {
     "model_module": "@jupyter-widgets/controls",
     "model_module_version": "1.5.0",
     "model_name": "HTMLModel",
     "state": {
      "_dom_classes": [],
      "_model_module": "@jupyter-widgets/controls",
      "_model_module_version": "1.5.0",
      "_model_name": "HTMLModel",
      "_view_count": null,
      "_view_module": "@jupyter-widgets/controls",
      "_view_module_version": "1.5.0",
      "_view_name": "HTMLView",
      "description": "",
      "description_tooltip": null,
      "layout": "IPY_MODEL_f993cf6108314351bd1fb51aab5446e8",
      "placeholder": "​",
      "style": "IPY_MODEL_c2254acbabe1425f88dd4b1291355523",
      "value": "DeepFool: 100%"
     }
    },
    "17194e6400f147458325727c4dfca8c9": {
     "model_module": "@jupyter-widgets/controls",
     "model_module_version": "1.5.0",
     "model_name": "HTMLModel",
     "state": {
      "_dom_classes": [],
      "_model_module": "@jupyter-widgets/controls",
      "_model_module_version": "1.5.0",
      "_model_name": "HTMLModel",
      "_view_count": null,
      "_view_module": "@jupyter-widgets/controls",
      "_view_module_version": "1.5.0",
      "_view_name": "HTMLView",
      "description": "",
      "description_tooltip": null,
      "layout": "IPY_MODEL_212e9aaca8744f57832b3dadcf696cbd",
      "placeholder": "​",
      "style": "IPY_MODEL_c062dc1d4e474d3c81a6cf2350348933",
      "value": " 1/1 [00:00&lt;00:00,  1.54it/s]"
     }
    },
    "212e9aaca8744f57832b3dadcf696cbd": {
     "model_module": "@jupyter-widgets/base",
     "model_module_version": "1.2.0",
     "model_name": "LayoutModel",
     "state": {
      "_model_module": "@jupyter-widgets/base",
      "_model_module_version": "1.2.0",
      "_model_name": "LayoutModel",
      "_view_count": null,
      "_view_module": "@jupyter-widgets/base",
      "_view_module_version": "1.2.0",
      "_view_name": "LayoutView",
      "align_content": null,
      "align_items": null,
      "align_self": null,
      "border": null,
      "bottom": null,
      "display": null,
      "flex": null,
      "flex_flow": null,
      "grid_area": null,
      "grid_auto_columns": null,
      "grid_auto_flow": null,
      "grid_auto_rows": null,
      "grid_column": null,
      "grid_gap": null,
      "grid_row": null,
      "grid_template_areas": null,
      "grid_template_columns": null,
      "grid_template_rows": null,
      "height": null,
      "justify_content": null,
      "justify_items": null,
      "left": null,
      "margin": null,
      "max_height": null,
      "max_width": null,
      "min_height": null,
      "min_width": null,
      "object_fit": null,
      "object_position": null,
      "order": null,
      "overflow": null,
      "overflow_x": null,
      "overflow_y": null,
      "padding": null,
      "right": null,
      "top": null,
      "visibility": null,
      "width": null
     }
    },
    "25e1334000cf41408074262628dc5d14": {
     "model_module": "@jupyter-widgets/controls",
     "model_module_version": "1.5.0",
     "model_name": "HTMLModel",
     "state": {
      "_dom_classes": [],
      "_model_module": "@jupyter-widgets/controls",
      "_model_module_version": "1.5.0",
      "_model_name": "HTMLModel",
      "_view_count": null,
      "_view_module": "@jupyter-widgets/controls",
      "_view_module_version": "1.5.0",
      "_view_name": "HTMLView",
      "description": "",
      "description_tooltip": null,
      "layout": "IPY_MODEL_a004ddc98d8c46fcb40999064197cb98",
      "placeholder": "​",
      "style": "IPY_MODEL_dd8db6ed545d4e7293595452dd5e3380",
      "value": "DeepFool: 100%"
     }
    },
    "2a39eea0bd0b4e3ca21ece15f25c9180": {
     "model_module": "@jupyter-widgets/base",
     "model_module_version": "1.2.0",
     "model_name": "LayoutModel",
     "state": {
      "_model_module": "@jupyter-widgets/base",
      "_model_module_version": "1.2.0",
      "_model_name": "LayoutModel",
      "_view_count": null,
      "_view_module": "@jupyter-widgets/base",
      "_view_module_version": "1.2.0",
      "_view_name": "LayoutView",
      "align_content": null,
      "align_items": null,
      "align_self": null,
      "border": null,
      "bottom": null,
      "display": null,
      "flex": null,
      "flex_flow": null,
      "grid_area": null,
      "grid_auto_columns": null,
      "grid_auto_flow": null,
      "grid_auto_rows": null,
      "grid_column": null,
      "grid_gap": null,
      "grid_row": null,
      "grid_template_areas": null,
      "grid_template_columns": null,
      "grid_template_rows": null,
      "height": null,
      "justify_content": null,
      "justify_items": null,
      "left": null,
      "margin": null,
      "max_height": null,
      "max_width": null,
      "min_height": null,
      "min_width": null,
      "object_fit": null,
      "object_position": null,
      "order": null,
      "overflow": null,
      "overflow_x": null,
      "overflow_y": null,
      "padding": null,
      "right": null,
      "top": null,
      "visibility": null,
      "width": null
     }
    },
    "2b176e7ea18f4bdd905bc3edf506b840": {
     "model_module": "@jupyter-widgets/controls",
     "model_module_version": "1.5.0",
     "model_name": "ProgressStyleModel",
     "state": {
      "_model_module": "@jupyter-widgets/controls",
      "_model_module_version": "1.5.0",
      "_model_name": "ProgressStyleModel",
      "_view_count": null,
      "_view_module": "@jupyter-widgets/base",
      "_view_module_version": "1.2.0",
      "_view_name": "StyleView",
      "bar_color": null,
      "description_width": ""
     }
    },
    "2cea6687182b408fa76d46e5d539b9cc": {
     "model_module": "@jupyter-widgets/base",
     "model_module_version": "1.2.0",
     "model_name": "LayoutModel",
     "state": {
      "_model_module": "@jupyter-widgets/base",
      "_model_module_version": "1.2.0",
      "_model_name": "LayoutModel",
      "_view_count": null,
      "_view_module": "@jupyter-widgets/base",
      "_view_module_version": "1.2.0",
      "_view_name": "LayoutView",
      "align_content": null,
      "align_items": null,
      "align_self": null,
      "border": null,
      "bottom": null,
      "display": null,
      "flex": null,
      "flex_flow": null,
      "grid_area": null,
      "grid_auto_columns": null,
      "grid_auto_flow": null,
      "grid_auto_rows": null,
      "grid_column": null,
      "grid_gap": null,
      "grid_row": null,
      "grid_template_areas": null,
      "grid_template_columns": null,
      "grid_template_rows": null,
      "height": null,
      "justify_content": null,
      "justify_items": null,
      "left": null,
      "margin": null,
      "max_height": null,
      "max_width": null,
      "min_height": null,
      "min_width": null,
      "object_fit": null,
      "object_position": null,
      "order": null,
      "overflow": null,
      "overflow_x": null,
      "overflow_y": null,
      "padding": null,
      "right": null,
      "top": null,
      "visibility": null,
      "width": null
     }
    },
    "2daefa47ad6a4072a968067b6dfd7829": {
     "model_module": "@jupyter-widgets/base",
     "model_module_version": "1.2.0",
     "model_name": "LayoutModel",
     "state": {
      "_model_module": "@jupyter-widgets/base",
      "_model_module_version": "1.2.0",
      "_model_name": "LayoutModel",
      "_view_count": null,
      "_view_module": "@jupyter-widgets/base",
      "_view_module_version": "1.2.0",
      "_view_name": "LayoutView",
      "align_content": null,
      "align_items": null,
      "align_self": null,
      "border": null,
      "bottom": null,
      "display": null,
      "flex": null,
      "flex_flow": null,
      "grid_area": null,
      "grid_auto_columns": null,
      "grid_auto_flow": null,
      "grid_auto_rows": null,
      "grid_column": null,
      "grid_gap": null,
      "grid_row": null,
      "grid_template_areas": null,
      "grid_template_columns": null,
      "grid_template_rows": null,
      "height": null,
      "justify_content": null,
      "justify_items": null,
      "left": null,
      "margin": null,
      "max_height": null,
      "max_width": null,
      "min_height": null,
      "min_width": null,
      "object_fit": null,
      "object_position": null,
      "order": null,
      "overflow": null,
      "overflow_x": null,
      "overflow_y": null,
      "padding": null,
      "right": null,
      "top": null,
      "visibility": null,
      "width": null
     }
    },
    "379569848e0c459fafc66006ef1dc1fe": {
     "model_module": "@jupyter-widgets/controls",
     "model_module_version": "1.5.0",
     "model_name": "HTMLModel",
     "state": {
      "_dom_classes": [],
      "_model_module": "@jupyter-widgets/controls",
      "_model_module_version": "1.5.0",
      "_model_name": "HTMLModel",
      "_view_count": null,
      "_view_module": "@jupyter-widgets/controls",
      "_view_module_version": "1.5.0",
      "_view_name": "HTMLView",
      "description": "",
      "description_tooltip": null,
      "layout": "IPY_MODEL_f3ebc09bc6bc408f9b13052cab21a683",
      "placeholder": "​",
      "style": "IPY_MODEL_7b947ba90452488d8bbe985eb2281e88",
      "value": " 1/1 [00:00&lt;00:00, 13.95it/s]"
     }
    },
    "40bee7c054f54a61babaaad9963a7311": {
     "model_module": "@jupyter-widgets/controls",
     "model_module_version": "1.5.0",
     "model_name": "HBoxModel",
     "state": {
      "_dom_classes": [],
      "_model_module": "@jupyter-widgets/controls",
      "_model_module_version": "1.5.0",
      "_model_name": "HBoxModel",
      "_view_count": null,
      "_view_module": "@jupyter-widgets/controls",
      "_view_module_version": "1.5.0",
      "_view_name": "HBoxView",
      "box_style": "",
      "children": [
       "IPY_MODEL_e4b7d632efcd459a9429c7fadf89911c",
       "IPY_MODEL_d67214382d73486489d816320620602a",
       "IPY_MODEL_379569848e0c459fafc66006ef1dc1fe"
      ],
      "layout": "IPY_MODEL_2daefa47ad6a4072a968067b6dfd7829"
     }
    },
    "413345ea4d8448a99ed52a8d5b7a3e9f": {
     "model_module": "@jupyter-widgets/controls",
     "model_module_version": "1.5.0",
     "model_name": "ProgressStyleModel",
     "state": {
      "_model_module": "@jupyter-widgets/controls",
      "_model_module_version": "1.5.0",
      "_model_name": "ProgressStyleModel",
      "_view_count": null,
      "_view_module": "@jupyter-widgets/base",
      "_view_module_version": "1.2.0",
      "_view_name": "StyleView",
      "bar_color": null,
      "description_width": ""
     }
    },
    "4976165857884cb2a4f8235890ce7757": {
     "model_module": "@jupyter-widgets/controls",
     "model_module_version": "1.5.0",
     "model_name": "ProgressStyleModel",
     "state": {
      "_model_module": "@jupyter-widgets/controls",
      "_model_module_version": "1.5.0",
      "_model_name": "ProgressStyleModel",
      "_view_count": null,
      "_view_module": "@jupyter-widgets/base",
      "_view_module_version": "1.2.0",
      "_view_name": "StyleView",
      "bar_color": null,
      "description_width": ""
     }
    },
    "4d424ad9f3b1409aae9fa02c5516fe6d": {
     "model_module": "@jupyter-widgets/base",
     "model_module_version": "1.2.0",
     "model_name": "LayoutModel",
     "state": {
      "_model_module": "@jupyter-widgets/base",
      "_model_module_version": "1.2.0",
      "_model_name": "LayoutModel",
      "_view_count": null,
      "_view_module": "@jupyter-widgets/base",
      "_view_module_version": "1.2.0",
      "_view_name": "LayoutView",
      "align_content": null,
      "align_items": null,
      "align_self": null,
      "border": null,
      "bottom": null,
      "display": null,
      "flex": null,
      "flex_flow": null,
      "grid_area": null,
      "grid_auto_columns": null,
      "grid_auto_flow": null,
      "grid_auto_rows": null,
      "grid_column": null,
      "grid_gap": null,
      "grid_row": null,
      "grid_template_areas": null,
      "grid_template_columns": null,
      "grid_template_rows": null,
      "height": null,
      "justify_content": null,
      "justify_items": null,
      "left": null,
      "margin": null,
      "max_height": null,
      "max_width": null,
      "min_height": null,
      "min_width": null,
      "object_fit": null,
      "object_position": null,
      "order": null,
      "overflow": null,
      "overflow_x": null,
      "overflow_y": null,
      "padding": null,
      "right": null,
      "top": null,
      "visibility": null,
      "width": null
     }
    },
    "4dbc610f52e643f2b1f7afc0707edc41": {
     "model_module": "@jupyter-widgets/controls",
     "model_module_version": "1.5.0",
     "model_name": "HBoxModel",
     "state": {
      "_dom_classes": [],
      "_model_module": "@jupyter-widgets/controls",
      "_model_module_version": "1.5.0",
      "_model_name": "HBoxModel",
      "_view_count": null,
      "_view_module": "@jupyter-widgets/controls",
      "_view_module_version": "1.5.0",
      "_view_name": "HBoxView",
      "box_style": "",
      "children": [
       "IPY_MODEL_25e1334000cf41408074262628dc5d14",
       "IPY_MODEL_c9d2db01a6e84a82a0181fc5a74071be",
       "IPY_MODEL_17194e6400f147458325727c4dfca8c9"
      ],
      "layout": "IPY_MODEL_06444ed8243c4c1d8e988a2bc0360b52"
     }
    },
    "507677ddd3f043f19be22ac20bb9cc42": {
     "model_module": "@jupyter-widgets/controls",
     "model_module_version": "1.5.0",
     "model_name": "HBoxModel",
     "state": {
      "_dom_classes": [],
      "_model_module": "@jupyter-widgets/controls",
      "_model_module_version": "1.5.0",
      "_model_name": "HBoxModel",
      "_view_count": null,
      "_view_module": "@jupyter-widgets/controls",
      "_view_module_version": "1.5.0",
      "_view_name": "HBoxView",
      "box_style": "",
      "children": [
       "IPY_MODEL_0fcc9eebb9da42caa8ea0b73b5124070",
       "IPY_MODEL_569b49c9935043c983981023070c5086",
       "IPY_MODEL_da91009cba264e90b77268681897573b"
      ],
      "layout": "IPY_MODEL_c0b85f914342443fbe9e4a5b10e185ee"
     }
    },
    "569b49c9935043c983981023070c5086": {
     "model_module": "@jupyter-widgets/controls",
     "model_module_version": "1.5.0",
     "model_name": "FloatProgressModel",
     "state": {
      "_dom_classes": [],
      "_model_module": "@jupyter-widgets/controls",
      "_model_module_version": "1.5.0",
      "_model_name": "FloatProgressModel",
      "_view_count": null,
      "_view_module": "@jupyter-widgets/controls",
      "_view_module_version": "1.5.0",
      "_view_name": "ProgressView",
      "bar_style": "success",
      "description": "",
      "description_tooltip": null,
      "layout": "IPY_MODEL_f89ac2e618e74a1fa789178301431e06",
      "max": 1,
      "min": 0,
      "orientation": "horizontal",
      "style": "IPY_MODEL_413345ea4d8448a99ed52a8d5b7a3e9f",
      "value": 1
     }
    },
    "5b4f54fff0b8464ba1db28e39578f1f2": {
     "model_module": "@jupyter-widgets/controls",
     "model_module_version": "1.5.0",
     "model_name": "DescriptionStyleModel",
     "state": {
      "_model_module": "@jupyter-widgets/controls",
      "_model_module_version": "1.5.0",
      "_model_name": "DescriptionStyleModel",
      "_view_count": null,
      "_view_module": "@jupyter-widgets/base",
      "_view_module_version": "1.2.0",
      "_view_name": "StyleView",
      "description_width": ""
     }
    },
    "74504b8a663a4bc5b08071b14a8c9325": {
     "model_module": "@jupyter-widgets/base",
     "model_module_version": "1.2.0",
     "model_name": "LayoutModel",
     "state": {
      "_model_module": "@jupyter-widgets/base",
      "_model_module_version": "1.2.0",
      "_model_name": "LayoutModel",
      "_view_count": null,
      "_view_module": "@jupyter-widgets/base",
      "_view_module_version": "1.2.0",
      "_view_name": "LayoutView",
      "align_content": null,
      "align_items": null,
      "align_self": null,
      "border": null,
      "bottom": null,
      "display": null,
      "flex": null,
      "flex_flow": null,
      "grid_area": null,
      "grid_auto_columns": null,
      "grid_auto_flow": null,
      "grid_auto_rows": null,
      "grid_column": null,
      "grid_gap": null,
      "grid_row": null,
      "grid_template_areas": null,
      "grid_template_columns": null,
      "grid_template_rows": null,
      "height": null,
      "justify_content": null,
      "justify_items": null,
      "left": null,
      "margin": null,
      "max_height": null,
      "max_width": null,
      "min_height": null,
      "min_width": null,
      "object_fit": null,
      "object_position": null,
      "order": null,
      "overflow": null,
      "overflow_x": null,
      "overflow_y": null,
      "padding": null,
      "right": null,
      "top": null,
      "visibility": null,
      "width": null
     }
    },
    "7b947ba90452488d8bbe985eb2281e88": {
     "model_module": "@jupyter-widgets/controls",
     "model_module_version": "1.5.0",
     "model_name": "DescriptionStyleModel",
     "state": {
      "_model_module": "@jupyter-widgets/controls",
      "_model_module_version": "1.5.0",
      "_model_name": "DescriptionStyleModel",
      "_view_count": null,
      "_view_module": "@jupyter-widgets/base",
      "_view_module_version": "1.2.0",
      "_view_name": "StyleView",
      "description_width": ""
     }
    },
    "87e982389c894c47a8aef9cf82b124ee": {
     "model_module": "@jupyter-widgets/controls",
     "model_module_version": "1.5.0",
     "model_name": "DescriptionStyleModel",
     "state": {
      "_model_module": "@jupyter-widgets/controls",
      "_model_module_version": "1.5.0",
      "_model_name": "DescriptionStyleModel",
      "_view_count": null,
      "_view_module": "@jupyter-widgets/base",
      "_view_module_version": "1.2.0",
      "_view_name": "StyleView",
      "description_width": ""
     }
    },
    "8b6d81f1ea114529bca8b73bf24dd167": {
     "model_module": "@jupyter-widgets/controls",
     "model_module_version": "1.5.0",
     "model_name": "HBoxModel",
     "state": {
      "_dom_classes": [],
      "_model_module": "@jupyter-widgets/controls",
      "_model_module_version": "1.5.0",
      "_model_name": "HBoxModel",
      "_view_count": null,
      "_view_module": "@jupyter-widgets/controls",
      "_view_module_version": "1.5.0",
      "_view_name": "HBoxView",
      "box_style": "",
      "children": [
       "IPY_MODEL_10824a4af1c541578249f422bb11e79b",
       "IPY_MODEL_ce2d1fa088f54e1286476d244e664f6b",
       "IPY_MODEL_0b610aa08d904654a378b4c95f3309ca"
      ],
      "layout": "IPY_MODEL_4d424ad9f3b1409aae9fa02c5516fe6d"
     }
    },
    "a004ddc98d8c46fcb40999064197cb98": {
     "model_module": "@jupyter-widgets/base",
     "model_module_version": "1.2.0",
     "model_name": "LayoutModel",
     "state": {
      "_model_module": "@jupyter-widgets/base",
      "_model_module_version": "1.2.0",
      "_model_name": "LayoutModel",
      "_view_count": null,
      "_view_module": "@jupyter-widgets/base",
      "_view_module_version": "1.2.0",
      "_view_name": "LayoutView",
      "align_content": null,
      "align_items": null,
      "align_self": null,
      "border": null,
      "bottom": null,
      "display": null,
      "flex": null,
      "flex_flow": null,
      "grid_area": null,
      "grid_auto_columns": null,
      "grid_auto_flow": null,
      "grid_auto_rows": null,
      "grid_column": null,
      "grid_gap": null,
      "grid_row": null,
      "grid_template_areas": null,
      "grid_template_columns": null,
      "grid_template_rows": null,
      "height": null,
      "justify_content": null,
      "justify_items": null,
      "left": null,
      "margin": null,
      "max_height": null,
      "max_width": null,
      "min_height": null,
      "min_width": null,
      "object_fit": null,
      "object_position": null,
      "order": null,
      "overflow": null,
      "overflow_x": null,
      "overflow_y": null,
      "padding": null,
      "right": null,
      "top": null,
      "visibility": null,
      "width": null
     }
    },
    "aabea3a311644a1c80421be595593a15": {
     "model_module": "@jupyter-widgets/base",
     "model_module_version": "1.2.0",
     "model_name": "LayoutModel",
     "state": {
      "_model_module": "@jupyter-widgets/base",
      "_model_module_version": "1.2.0",
      "_model_name": "LayoutModel",
      "_view_count": null,
      "_view_module": "@jupyter-widgets/base",
      "_view_module_version": "1.2.0",
      "_view_name": "LayoutView",
      "align_content": null,
      "align_items": null,
      "align_self": null,
      "border": null,
      "bottom": null,
      "display": null,
      "flex": null,
      "flex_flow": null,
      "grid_area": null,
      "grid_auto_columns": null,
      "grid_auto_flow": null,
      "grid_auto_rows": null,
      "grid_column": null,
      "grid_gap": null,
      "grid_row": null,
      "grid_template_areas": null,
      "grid_template_columns": null,
      "grid_template_rows": null,
      "height": null,
      "justify_content": null,
      "justify_items": null,
      "left": null,
      "margin": null,
      "max_height": null,
      "max_width": null,
      "min_height": null,
      "min_width": null,
      "object_fit": null,
      "object_position": null,
      "order": null,
      "overflow": null,
      "overflow_x": null,
      "overflow_y": null,
      "padding": null,
      "right": null,
      "top": null,
      "visibility": null,
      "width": null
     }
    },
    "c062dc1d4e474d3c81a6cf2350348933": {
     "model_module": "@jupyter-widgets/controls",
     "model_module_version": "1.5.0",
     "model_name": "DescriptionStyleModel",
     "state": {
      "_model_module": "@jupyter-widgets/controls",
      "_model_module_version": "1.5.0",
      "_model_name": "DescriptionStyleModel",
      "_view_count": null,
      "_view_module": "@jupyter-widgets/base",
      "_view_module_version": "1.2.0",
      "_view_name": "StyleView",
      "description_width": ""
     }
    },
    "c0b85f914342443fbe9e4a5b10e185ee": {
     "model_module": "@jupyter-widgets/base",
     "model_module_version": "1.2.0",
     "model_name": "LayoutModel",
     "state": {
      "_model_module": "@jupyter-widgets/base",
      "_model_module_version": "1.2.0",
      "_model_name": "LayoutModel",
      "_view_count": null,
      "_view_module": "@jupyter-widgets/base",
      "_view_module_version": "1.2.0",
      "_view_name": "LayoutView",
      "align_content": null,
      "align_items": null,
      "align_self": null,
      "border": null,
      "bottom": null,
      "display": null,
      "flex": null,
      "flex_flow": null,
      "grid_area": null,
      "grid_auto_columns": null,
      "grid_auto_flow": null,
      "grid_auto_rows": null,
      "grid_column": null,
      "grid_gap": null,
      "grid_row": null,
      "grid_template_areas": null,
      "grid_template_columns": null,
      "grid_template_rows": null,
      "height": null,
      "justify_content": null,
      "justify_items": null,
      "left": null,
      "margin": null,
      "max_height": null,
      "max_width": null,
      "min_height": null,
      "min_width": null,
      "object_fit": null,
      "object_position": null,
      "order": null,
      "overflow": null,
      "overflow_x": null,
      "overflow_y": null,
      "padding": null,
      "right": null,
      "top": null,
      "visibility": null,
      "width": null
     }
    },
    "c2254acbabe1425f88dd4b1291355523": {
     "model_module": "@jupyter-widgets/controls",
     "model_module_version": "1.5.0",
     "model_name": "DescriptionStyleModel",
     "state": {
      "_model_module": "@jupyter-widgets/controls",
      "_model_module_version": "1.5.0",
      "_model_name": "DescriptionStyleModel",
      "_view_count": null,
      "_view_module": "@jupyter-widgets/base",
      "_view_module_version": "1.2.0",
      "_view_name": "StyleView",
      "description_width": ""
     }
    },
    "c9d2db01a6e84a82a0181fc5a74071be": {
     "model_module": "@jupyter-widgets/controls",
     "model_module_version": "1.5.0",
     "model_name": "FloatProgressModel",
     "state": {
      "_dom_classes": [],
      "_model_module": "@jupyter-widgets/controls",
      "_model_module_version": "1.5.0",
      "_model_name": "FloatProgressModel",
      "_view_count": null,
      "_view_module": "@jupyter-widgets/controls",
      "_view_module_version": "1.5.0",
      "_view_name": "ProgressView",
      "bar_style": "success",
      "description": "",
      "description_tooltip": null,
      "layout": "IPY_MODEL_2cea6687182b408fa76d46e5d539b9cc",
      "max": 1,
      "min": 0,
      "orientation": "horizontal",
      "style": "IPY_MODEL_2b176e7ea18f4bdd905bc3edf506b840",
      "value": 1
     }
    },
    "ce2d1fa088f54e1286476d244e664f6b": {
     "model_module": "@jupyter-widgets/controls",
     "model_module_version": "1.5.0",
     "model_name": "FloatProgressModel",
     "state": {
      "_dom_classes": [],
      "_model_module": "@jupyter-widgets/controls",
      "_model_module_version": "1.5.0",
      "_model_name": "FloatProgressModel",
      "_view_count": null,
      "_view_module": "@jupyter-widgets/controls",
      "_view_module_version": "1.5.0",
      "_view_name": "ProgressView",
      "bar_style": "success",
      "description": "",
      "description_tooltip": null,
      "layout": "IPY_MODEL_74504b8a663a4bc5b08071b14a8c9325",
      "max": 1,
      "min": 0,
      "orientation": "horizontal",
      "style": "IPY_MODEL_4976165857884cb2a4f8235890ce7757",
      "value": 1
     }
    },
    "d192f348849e40ce9fbce7392db6ecf7": {
     "model_module": "@jupyter-widgets/base",
     "model_module_version": "1.2.0",
     "model_name": "LayoutModel",
     "state": {
      "_model_module": "@jupyter-widgets/base",
      "_model_module_version": "1.2.0",
      "_model_name": "LayoutModel",
      "_view_count": null,
      "_view_module": "@jupyter-widgets/base",
      "_view_module_version": "1.2.0",
      "_view_name": "LayoutView",
      "align_content": null,
      "align_items": null,
      "align_self": null,
      "border": null,
      "bottom": null,
      "display": null,
      "flex": null,
      "flex_flow": null,
      "grid_area": null,
      "grid_auto_columns": null,
      "grid_auto_flow": null,
      "grid_auto_rows": null,
      "grid_column": null,
      "grid_gap": null,
      "grid_row": null,
      "grid_template_areas": null,
      "grid_template_columns": null,
      "grid_template_rows": null,
      "height": null,
      "justify_content": null,
      "justify_items": null,
      "left": null,
      "margin": null,
      "max_height": null,
      "max_width": null,
      "min_height": null,
      "min_width": null,
      "object_fit": null,
      "object_position": null,
      "order": null,
      "overflow": null,
      "overflow_x": null,
      "overflow_y": null,
      "padding": null,
      "right": null,
      "top": null,
      "visibility": null,
      "width": null
     }
    },
    "d67214382d73486489d816320620602a": {
     "model_module": "@jupyter-widgets/controls",
     "model_module_version": "1.5.0",
     "model_name": "FloatProgressModel",
     "state": {
      "_dom_classes": [],
      "_model_module": "@jupyter-widgets/controls",
      "_model_module_version": "1.5.0",
      "_model_name": "FloatProgressModel",
      "_view_count": null,
      "_view_module": "@jupyter-widgets/controls",
      "_view_module_version": "1.5.0",
      "_view_name": "ProgressView",
      "bar_style": "success",
      "description": "",
      "description_tooltip": null,
      "layout": "IPY_MODEL_d192f348849e40ce9fbce7392db6ecf7",
      "max": 1,
      "min": 0,
      "orientation": "horizontal",
      "style": "IPY_MODEL_e59b0ff4b9674b27a44f766242559a5f",
      "value": 1
     }
    },
    "da91009cba264e90b77268681897573b": {
     "model_module": "@jupyter-widgets/controls",
     "model_module_version": "1.5.0",
     "model_name": "HTMLModel",
     "state": {
      "_dom_classes": [],
      "_model_module": "@jupyter-widgets/controls",
      "_model_module_version": "1.5.0",
      "_model_name": "HTMLModel",
      "_view_count": null,
      "_view_module": "@jupyter-widgets/controls",
      "_view_module_version": "1.5.0",
      "_view_name": "HTMLView",
      "description": "",
      "description_tooltip": null,
      "layout": "IPY_MODEL_090e4f4e21104decb85c34cf00465ea3",
      "placeholder": "​",
      "style": "IPY_MODEL_dc19f4af9d5349b48744961c6f993168",
      "value": " 1/1 [00:01&lt;00:00,  1.57s/it]"
     }
    },
    "dc19f4af9d5349b48744961c6f993168": {
     "model_module": "@jupyter-widgets/controls",
     "model_module_version": "1.5.0",
     "model_name": "DescriptionStyleModel",
     "state": {
      "_model_module": "@jupyter-widgets/controls",
      "_model_module_version": "1.5.0",
      "_model_name": "DescriptionStyleModel",
      "_view_count": null,
      "_view_module": "@jupyter-widgets/base",
      "_view_module_version": "1.2.0",
      "_view_name": "StyleView",
      "description_width": ""
     }
    },
    "dd8db6ed545d4e7293595452dd5e3380": {
     "model_module": "@jupyter-widgets/controls",
     "model_module_version": "1.5.0",
     "model_name": "DescriptionStyleModel",
     "state": {
      "_model_module": "@jupyter-widgets/controls",
      "_model_module_version": "1.5.0",
      "_model_name": "DescriptionStyleModel",
      "_view_count": null,
      "_view_module": "@jupyter-widgets/base",
      "_view_module_version": "1.2.0",
      "_view_name": "StyleView",
      "description_width": ""
     }
    },
    "e4b7d632efcd459a9429c7fadf89911c": {
     "model_module": "@jupyter-widgets/controls",
     "model_module_version": "1.5.0",
     "model_name": "HTMLModel",
     "state": {
      "_dom_classes": [],
      "_model_module": "@jupyter-widgets/controls",
      "_model_module_version": "1.5.0",
      "_model_name": "HTMLModel",
      "_view_count": null,
      "_view_module": "@jupyter-widgets/controls",
      "_view_module_version": "1.5.0",
      "_view_name": "HTMLView",
      "description": "",
      "description_tooltip": null,
      "layout": "IPY_MODEL_2a39eea0bd0b4e3ca21ece15f25c9180",
      "placeholder": "​",
      "style": "IPY_MODEL_5b4f54fff0b8464ba1db28e39578f1f2",
      "value": "DeepFool: 100%"
     }
    },
    "e59b0ff4b9674b27a44f766242559a5f": {
     "model_module": "@jupyter-widgets/controls",
     "model_module_version": "1.5.0",
     "model_name": "ProgressStyleModel",
     "state": {
      "_model_module": "@jupyter-widgets/controls",
      "_model_module_version": "1.5.0",
      "_model_name": "ProgressStyleModel",
      "_view_count": null,
      "_view_module": "@jupyter-widgets/base",
      "_view_module_version": "1.2.0",
      "_view_name": "StyleView",
      "bar_color": null,
      "description_width": ""
     }
    },
    "f3ebc09bc6bc408f9b13052cab21a683": {
     "model_module": "@jupyter-widgets/base",
     "model_module_version": "1.2.0",
     "model_name": "LayoutModel",
     "state": {
      "_model_module": "@jupyter-widgets/base",
      "_model_module_version": "1.2.0",
      "_model_name": "LayoutModel",
      "_view_count": null,
      "_view_module": "@jupyter-widgets/base",
      "_view_module_version": "1.2.0",
      "_view_name": "LayoutView",
      "align_content": null,
      "align_items": null,
      "align_self": null,
      "border": null,
      "bottom": null,
      "display": null,
      "flex": null,
      "flex_flow": null,
      "grid_area": null,
      "grid_auto_columns": null,
      "grid_auto_flow": null,
      "grid_auto_rows": null,
      "grid_column": null,
      "grid_gap": null,
      "grid_row": null,
      "grid_template_areas": null,
      "grid_template_columns": null,
      "grid_template_rows": null,
      "height": null,
      "justify_content": null,
      "justify_items": null,
      "left": null,
      "margin": null,
      "max_height": null,
      "max_width": null,
      "min_height": null,
      "min_width": null,
      "object_fit": null,
      "object_position": null,
      "order": null,
      "overflow": null,
      "overflow_x": null,
      "overflow_y": null,
      "padding": null,
      "right": null,
      "top": null,
      "visibility": null,
      "width": null
     }
    },
    "f89ac2e618e74a1fa789178301431e06": {
     "model_module": "@jupyter-widgets/base",
     "model_module_version": "1.2.0",
     "model_name": "LayoutModel",
     "state": {
      "_model_module": "@jupyter-widgets/base",
      "_model_module_version": "1.2.0",
      "_model_name": "LayoutModel",
      "_view_count": null,
      "_view_module": "@jupyter-widgets/base",
      "_view_module_version": "1.2.0",
      "_view_name": "LayoutView",
      "align_content": null,
      "align_items": null,
      "align_self": null,
      "border": null,
      "bottom": null,
      "display": null,
      "flex": null,
      "flex_flow": null,
      "grid_area": null,
      "grid_auto_columns": null,
      "grid_auto_flow": null,
      "grid_auto_rows": null,
      "grid_column": null,
      "grid_gap": null,
      "grid_row": null,
      "grid_template_areas": null,
      "grid_template_columns": null,
      "grid_template_rows": null,
      "height": null,
      "justify_content": null,
      "justify_items": null,
      "left": null,
      "margin": null,
      "max_height": null,
      "max_width": null,
      "min_height": null,
      "min_width": null,
      "object_fit": null,
      "object_position": null,
      "order": null,
      "overflow": null,
      "overflow_x": null,
      "overflow_y": null,
      "padding": null,
      "right": null,
      "top": null,
      "visibility": null,
      "width": null
     }
    },
    "f9008273249544d894c8ba383400e367": {
     "model_module": "@jupyter-widgets/controls",
     "model_module_version": "1.5.0",
     "model_name": "DescriptionStyleModel",
     "state": {
      "_model_module": "@jupyter-widgets/controls",
      "_model_module_version": "1.5.0",
      "_model_name": "DescriptionStyleModel",
      "_view_count": null,
      "_view_module": "@jupyter-widgets/base",
      "_view_module_version": "1.2.0",
      "_view_name": "StyleView",
      "description_width": ""
     }
    },
    "f993cf6108314351bd1fb51aab5446e8": {
     "model_module": "@jupyter-widgets/base",
     "model_module_version": "1.2.0",
     "model_name": "LayoutModel",
     "state": {
      "_model_module": "@jupyter-widgets/base",
      "_model_module_version": "1.2.0",
      "_model_name": "LayoutModel",
      "_view_count": null,
      "_view_module": "@jupyter-widgets/base",
      "_view_module_version": "1.2.0",
      "_view_name": "LayoutView",
      "align_content": null,
      "align_items": null,
      "align_self": null,
      "border": null,
      "bottom": null,
      "display": null,
      "flex": null,
      "flex_flow": null,
      "grid_area": null,
      "grid_auto_columns": null,
      "grid_auto_flow": null,
      "grid_auto_rows": null,
      "grid_column": null,
      "grid_gap": null,
      "grid_row": null,
      "grid_template_areas": null,
      "grid_template_columns": null,
      "grid_template_rows": null,
      "height": null,
      "justify_content": null,
      "justify_items": null,
      "left": null,
      "margin": null,
      "max_height": null,
      "max_width": null,
      "min_height": null,
      "min_width": null,
      "object_fit": null,
      "object_position": null,
      "order": null,
      "overflow": null,
      "overflow_x": null,
      "overflow_y": null,
      "padding": null,
      "right": null,
      "top": null,
      "visibility": null,
      "width": null
     }
    }
   }
  }
 },
 "nbformat": 4,
 "nbformat_minor": 1
}
